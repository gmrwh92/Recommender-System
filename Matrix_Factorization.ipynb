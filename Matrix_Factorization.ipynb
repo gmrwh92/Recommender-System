{
  "nbformat": 4,
  "nbformat_minor": 0,
  "metadata": {
    "colab": {
      "provenance": [],
      "authorship_tag": "ABX9TyNVPAsy5f4sDbKlVnyLSv4V",
      "include_colab_link": true
    },
    "kernelspec": {
      "name": "python3",
      "display_name": "Python 3"
    },
    "language_info": {
      "name": "python"
    }
  },
  "cells": [
    {
      "cell_type": "markdown",
      "metadata": {
        "id": "view-in-github",
        "colab_type": "text"
      },
      "source": [
        "<a href=\"https://colab.research.google.com/github/gmrwh92/Recommender-System/blob/main/Matrix_Factorization.ipynb\" target=\"_parent\"><img src=\"https://colab.research.google.com/assets/colab-badge.svg\" alt=\"Open In Colab\"/></a>"
      ]
    },
    {
      "cell_type": "code",
      "source": [
        "from google.colab import drive\n",
        "drive.mount('/content/drive')\n"
      ],
      "metadata": {
        "id": "qmm6J2MzwsrU",
        "colab": {
          "base_uri": "https://localhost:8080/"
        },
        "outputId": "0c195adb-4c06-4356-8054-d093b5d09660"
      },
      "execution_count": 18,
      "outputs": [
        {
          "output_type": "stream",
          "name": "stdout",
          "text": [
            "Drive already mounted at /content/drive; to attempt to forcibly remount, call drive.mount(\"/content/drive\", force_remount=True).\n"
          ]
        }
      ]
    },
    {
      "cell_type": "code",
      "source": [
        "## importing libraries\n",
        "import os\n",
        "import pandas as pd\n",
        "import numpy as np\n",
        "import torch\n",
        "import torch.nn as nn\n",
        "import torch.nn.functional as F\n",
        "import matplotlib.pyplot as plt\n",
        "from sklearn.preprocessing import LabelEncoder\n",
        "from sklearn import model_selection, metrics, preprocessing\n",
        "from torch.utils.data import Dataset, DataLoader\n",
        "from sklearn.metrics import mean_squared_error\n",
        "from sklearn.model_selection import train_test_split\n",
        "import torch.optim as optim"
      ],
      "metadata": {
        "id": "lySVFJQ1roD6"
      },
      "execution_count": 19,
      "outputs": []
    },
    {
      "cell_type": "code",
      "source": [
        "## load dataset\n",
        "data = pd.read_csv('/content/drive/MyDrive/ml-latest-small/ratings.csv')\n",
        "df= data[['userId','movieId','rating']]\n",
        "num_users = data.userId.nunique()\n",
        "num_items = data.movieId.nunique()\n",
        "df"
      ],
      "metadata": {
        "id": "OOXAjM-xwuPh",
        "outputId": "5ce2615d-6fb4-4a70-fd42-db3a231a468e",
        "colab": {
          "base_uri": "https://localhost:8080/",
          "height": 423
        }
      },
      "execution_count": 20,
      "outputs": [
        {
          "output_type": "execute_result",
          "data": {
            "text/plain": [
              "        userId  movieId  rating\n",
              "0            1        1     4.0\n",
              "1            1        3     4.0\n",
              "2            1        6     4.0\n",
              "3            1       47     5.0\n",
              "4            1       50     5.0\n",
              "...        ...      ...     ...\n",
              "100831     610   166534     4.0\n",
              "100832     610   168248     5.0\n",
              "100833     610   168250     5.0\n",
              "100834     610   168252     5.0\n",
              "100835     610   170875     3.0\n",
              "\n",
              "[100836 rows x 3 columns]"
            ],
            "text/html": [
              "\n",
              "  <div id=\"df-157abdd8-4d64-43ec-a720-b6536e79ff96\" class=\"colab-df-container\">\n",
              "    <div>\n",
              "<style scoped>\n",
              "    .dataframe tbody tr th:only-of-type {\n",
              "        vertical-align: middle;\n",
              "    }\n",
              "\n",
              "    .dataframe tbody tr th {\n",
              "        vertical-align: top;\n",
              "    }\n",
              "\n",
              "    .dataframe thead th {\n",
              "        text-align: right;\n",
              "    }\n",
              "</style>\n",
              "<table border=\"1\" class=\"dataframe\">\n",
              "  <thead>\n",
              "    <tr style=\"text-align: right;\">\n",
              "      <th></th>\n",
              "      <th>userId</th>\n",
              "      <th>movieId</th>\n",
              "      <th>rating</th>\n",
              "    </tr>\n",
              "  </thead>\n",
              "  <tbody>\n",
              "    <tr>\n",
              "      <th>0</th>\n",
              "      <td>1</td>\n",
              "      <td>1</td>\n",
              "      <td>4.0</td>\n",
              "    </tr>\n",
              "    <tr>\n",
              "      <th>1</th>\n",
              "      <td>1</td>\n",
              "      <td>3</td>\n",
              "      <td>4.0</td>\n",
              "    </tr>\n",
              "    <tr>\n",
              "      <th>2</th>\n",
              "      <td>1</td>\n",
              "      <td>6</td>\n",
              "      <td>4.0</td>\n",
              "    </tr>\n",
              "    <tr>\n",
              "      <th>3</th>\n",
              "      <td>1</td>\n",
              "      <td>47</td>\n",
              "      <td>5.0</td>\n",
              "    </tr>\n",
              "    <tr>\n",
              "      <th>4</th>\n",
              "      <td>1</td>\n",
              "      <td>50</td>\n",
              "      <td>5.0</td>\n",
              "    </tr>\n",
              "    <tr>\n",
              "      <th>...</th>\n",
              "      <td>...</td>\n",
              "      <td>...</td>\n",
              "      <td>...</td>\n",
              "    </tr>\n",
              "    <tr>\n",
              "      <th>100831</th>\n",
              "      <td>610</td>\n",
              "      <td>166534</td>\n",
              "      <td>4.0</td>\n",
              "    </tr>\n",
              "    <tr>\n",
              "      <th>100832</th>\n",
              "      <td>610</td>\n",
              "      <td>168248</td>\n",
              "      <td>5.0</td>\n",
              "    </tr>\n",
              "    <tr>\n",
              "      <th>100833</th>\n",
              "      <td>610</td>\n",
              "      <td>168250</td>\n",
              "      <td>5.0</td>\n",
              "    </tr>\n",
              "    <tr>\n",
              "      <th>100834</th>\n",
              "      <td>610</td>\n",
              "      <td>168252</td>\n",
              "      <td>5.0</td>\n",
              "    </tr>\n",
              "    <tr>\n",
              "      <th>100835</th>\n",
              "      <td>610</td>\n",
              "      <td>170875</td>\n",
              "      <td>3.0</td>\n",
              "    </tr>\n",
              "  </tbody>\n",
              "</table>\n",
              "<p>100836 rows × 3 columns</p>\n",
              "</div>\n",
              "    <div class=\"colab-df-buttons\">\n",
              "\n",
              "  <div class=\"colab-df-container\">\n",
              "    <button class=\"colab-df-convert\" onclick=\"convertToInteractive('df-157abdd8-4d64-43ec-a720-b6536e79ff96')\"\n",
              "            title=\"Convert this dataframe to an interactive table.\"\n",
              "            style=\"display:none;\">\n",
              "\n",
              "  <svg xmlns=\"http://www.w3.org/2000/svg\" height=\"24px\" viewBox=\"0 -960 960 960\">\n",
              "    <path d=\"M120-120v-720h720v720H120Zm60-500h600v-160H180v160Zm220 220h160v-160H400v160Zm0 220h160v-160H400v160ZM180-400h160v-160H180v160Zm440 0h160v-160H620v160ZM180-180h160v-160H180v160Zm440 0h160v-160H620v160Z\"/>\n",
              "  </svg>\n",
              "    </button>\n",
              "\n",
              "  <style>\n",
              "    .colab-df-container {\n",
              "      display:flex;\n",
              "      gap: 12px;\n",
              "    }\n",
              "\n",
              "    .colab-df-convert {\n",
              "      background-color: #E8F0FE;\n",
              "      border: none;\n",
              "      border-radius: 50%;\n",
              "      cursor: pointer;\n",
              "      display: none;\n",
              "      fill: #1967D2;\n",
              "      height: 32px;\n",
              "      padding: 0 0 0 0;\n",
              "      width: 32px;\n",
              "    }\n",
              "\n",
              "    .colab-df-convert:hover {\n",
              "      background-color: #E2EBFA;\n",
              "      box-shadow: 0px 1px 2px rgba(60, 64, 67, 0.3), 0px 1px 3px 1px rgba(60, 64, 67, 0.15);\n",
              "      fill: #174EA6;\n",
              "    }\n",
              "\n",
              "    .colab-df-buttons div {\n",
              "      margin-bottom: 4px;\n",
              "    }\n",
              "\n",
              "    [theme=dark] .colab-df-convert {\n",
              "      background-color: #3B4455;\n",
              "      fill: #D2E3FC;\n",
              "    }\n",
              "\n",
              "    [theme=dark] .colab-df-convert:hover {\n",
              "      background-color: #434B5C;\n",
              "      box-shadow: 0px 1px 3px 1px rgba(0, 0, 0, 0.15);\n",
              "      filter: drop-shadow(0px 1px 2px rgba(0, 0, 0, 0.3));\n",
              "      fill: #FFFFFF;\n",
              "    }\n",
              "  </style>\n",
              "\n",
              "    <script>\n",
              "      const buttonEl =\n",
              "        document.querySelector('#df-157abdd8-4d64-43ec-a720-b6536e79ff96 button.colab-df-convert');\n",
              "      buttonEl.style.display =\n",
              "        google.colab.kernel.accessAllowed ? 'block' : 'none';\n",
              "\n",
              "      async function convertToInteractive(key) {\n",
              "        const element = document.querySelector('#df-157abdd8-4d64-43ec-a720-b6536e79ff96');\n",
              "        const dataTable =\n",
              "          await google.colab.kernel.invokeFunction('convertToInteractive',\n",
              "                                                    [key], {});\n",
              "        if (!dataTable) return;\n",
              "\n",
              "        const docLinkHtml = 'Like what you see? Visit the ' +\n",
              "          '<a target=\"_blank\" href=https://colab.research.google.com/notebooks/data_table.ipynb>data table notebook</a>'\n",
              "          + ' to learn more about interactive tables.';\n",
              "        element.innerHTML = '';\n",
              "        dataTable['output_type'] = 'display_data';\n",
              "        await google.colab.output.renderOutput(dataTable, element);\n",
              "        const docLink = document.createElement('div');\n",
              "        docLink.innerHTML = docLinkHtml;\n",
              "        element.appendChild(docLink);\n",
              "      }\n",
              "    </script>\n",
              "  </div>\n",
              "\n",
              "\n",
              "<div id=\"df-249e6df6-3835-40fb-8c86-8c55ae5b4d72\">\n",
              "  <button class=\"colab-df-quickchart\" onclick=\"quickchart('df-249e6df6-3835-40fb-8c86-8c55ae5b4d72')\"\n",
              "            title=\"Suggest charts.\"\n",
              "            style=\"display:none;\">\n",
              "\n",
              "<svg xmlns=\"http://www.w3.org/2000/svg\" height=\"24px\"viewBox=\"0 0 24 24\"\n",
              "     width=\"24px\">\n",
              "    <g>\n",
              "        <path d=\"M19 3H5c-1.1 0-2 .9-2 2v14c0 1.1.9 2 2 2h14c1.1 0 2-.9 2-2V5c0-1.1-.9-2-2-2zM9 17H7v-7h2v7zm4 0h-2V7h2v10zm4 0h-2v-4h2v4z\"/>\n",
              "    </g>\n",
              "</svg>\n",
              "  </button>\n",
              "\n",
              "<style>\n",
              "  .colab-df-quickchart {\n",
              "      --bg-color: #E8F0FE;\n",
              "      --fill-color: #1967D2;\n",
              "      --hover-bg-color: #E2EBFA;\n",
              "      --hover-fill-color: #174EA6;\n",
              "      --disabled-fill-color: #AAA;\n",
              "      --disabled-bg-color: #DDD;\n",
              "  }\n",
              "\n",
              "  [theme=dark] .colab-df-quickchart {\n",
              "      --bg-color: #3B4455;\n",
              "      --fill-color: #D2E3FC;\n",
              "      --hover-bg-color: #434B5C;\n",
              "      --hover-fill-color: #FFFFFF;\n",
              "      --disabled-bg-color: #3B4455;\n",
              "      --disabled-fill-color: #666;\n",
              "  }\n",
              "\n",
              "  .colab-df-quickchart {\n",
              "    background-color: var(--bg-color);\n",
              "    border: none;\n",
              "    border-radius: 50%;\n",
              "    cursor: pointer;\n",
              "    display: none;\n",
              "    fill: var(--fill-color);\n",
              "    height: 32px;\n",
              "    padding: 0;\n",
              "    width: 32px;\n",
              "  }\n",
              "\n",
              "  .colab-df-quickchart:hover {\n",
              "    background-color: var(--hover-bg-color);\n",
              "    box-shadow: 0 1px 2px rgba(60, 64, 67, 0.3), 0 1px 3px 1px rgba(60, 64, 67, 0.15);\n",
              "    fill: var(--button-hover-fill-color);\n",
              "  }\n",
              "\n",
              "  .colab-df-quickchart-complete:disabled,\n",
              "  .colab-df-quickchart-complete:disabled:hover {\n",
              "    background-color: var(--disabled-bg-color);\n",
              "    fill: var(--disabled-fill-color);\n",
              "    box-shadow: none;\n",
              "  }\n",
              "\n",
              "  .colab-df-spinner {\n",
              "    border: 2px solid var(--fill-color);\n",
              "    border-color: transparent;\n",
              "    border-bottom-color: var(--fill-color);\n",
              "    animation:\n",
              "      spin 1s steps(1) infinite;\n",
              "  }\n",
              "\n",
              "  @keyframes spin {\n",
              "    0% {\n",
              "      border-color: transparent;\n",
              "      border-bottom-color: var(--fill-color);\n",
              "      border-left-color: var(--fill-color);\n",
              "    }\n",
              "    20% {\n",
              "      border-color: transparent;\n",
              "      border-left-color: var(--fill-color);\n",
              "      border-top-color: var(--fill-color);\n",
              "    }\n",
              "    30% {\n",
              "      border-color: transparent;\n",
              "      border-left-color: var(--fill-color);\n",
              "      border-top-color: var(--fill-color);\n",
              "      border-right-color: var(--fill-color);\n",
              "    }\n",
              "    40% {\n",
              "      border-color: transparent;\n",
              "      border-right-color: var(--fill-color);\n",
              "      border-top-color: var(--fill-color);\n",
              "    }\n",
              "    60% {\n",
              "      border-color: transparent;\n",
              "      border-right-color: var(--fill-color);\n",
              "    }\n",
              "    80% {\n",
              "      border-color: transparent;\n",
              "      border-right-color: var(--fill-color);\n",
              "      border-bottom-color: var(--fill-color);\n",
              "    }\n",
              "    90% {\n",
              "      border-color: transparent;\n",
              "      border-bottom-color: var(--fill-color);\n",
              "    }\n",
              "  }\n",
              "</style>\n",
              "\n",
              "  <script>\n",
              "    async function quickchart(key) {\n",
              "      const quickchartButtonEl =\n",
              "        document.querySelector('#' + key + ' button');\n",
              "      quickchartButtonEl.disabled = true;  // To prevent multiple clicks.\n",
              "      quickchartButtonEl.classList.add('colab-df-spinner');\n",
              "      try {\n",
              "        const charts = await google.colab.kernel.invokeFunction(\n",
              "            'suggestCharts', [key], {});\n",
              "      } catch (error) {\n",
              "        console.error('Error during call to suggestCharts:', error);\n",
              "      }\n",
              "      quickchartButtonEl.classList.remove('colab-df-spinner');\n",
              "      quickchartButtonEl.classList.add('colab-df-quickchart-complete');\n",
              "    }\n",
              "    (() => {\n",
              "      let quickchartButtonEl =\n",
              "        document.querySelector('#df-249e6df6-3835-40fb-8c86-8c55ae5b4d72 button');\n",
              "      quickchartButtonEl.style.display =\n",
              "        google.colab.kernel.accessAllowed ? 'block' : 'none';\n",
              "    })();\n",
              "  </script>\n",
              "</div>\n",
              "    </div>\n",
              "  </div>\n"
            ]
          },
          "metadata": {},
          "execution_count": 20
        }
      ]
    },
    {
      "cell_type": "code",
      "source": [
        "##check the number of users and items in movielens dataset\n",
        "num_users, num_items"
      ],
      "metadata": {
        "colab": {
          "base_uri": "https://localhost:8080/"
        },
        "id": "OJbTNSdLhLEJ",
        "outputId": "1a091312-de5c-459f-f0f8-32d3ebe5c0f1"
      },
      "execution_count": 21,
      "outputs": [
        {
          "output_type": "execute_result",
          "data": {
            "text/plain": [
              "(610, 9724)"
            ]
          },
          "metadata": {},
          "execution_count": 21
        }
      ]
    },
    {
      "cell_type": "code",
      "source": [
        "## encode data into numerical values\n",
        "le = LabelEncoder()\n",
        "df['user_ids'] = le.fit_transform(df['userId'])\n",
        "df['item_ids'] = le.fit_transform(df['movieId'])"
      ],
      "metadata": {
        "id": "JQcYPHsMVnfW"
      },
      "execution_count": 22,
      "outputs": []
    },
    {
      "cell_type": "code",
      "source": [
        "## split data into train and test set (20% for test and 80% training)\n",
        "train_df, test_df = train_test_split(df, test_size=0.2, random_state=42)"
      ],
      "metadata": {
        "id": "a1G3Au05Vwzd"
      },
      "execution_count": 23,
      "outputs": []
    },
    {
      "cell_type": "code",
      "source": [
        "## define Matrix Factorization model using pytorch\n",
        "class MF(nn.Module):\n",
        "    def __init__(self, n_users, n_items, n_factors):\n",
        "        super(MF, self).__init__()\n",
        "        self.user_embeddings = nn.Embedding(n_users, n_factors)\n",
        "        self.item_embeddings = nn.Embedding(n_items, n_factors)\n",
        "        self.user_bias = nn.Embedding(n_users, 1)\n",
        "        self.item_bias = nn.Embedding(n_items, 1)\n",
        "\n",
        "\n",
        "    def forward(self, user_ids, item_ids):\n",
        "        user_embeds = self.user_embeddings(user_ids)\n",
        "        item_embeds = self.item_embeddings(item_ids)\n",
        "        user_bias = self.user_bias(user_ids).squeeze()\n",
        "        item_bias = self.item_bias(item_ids).squeeze()\n",
        "        dot = torch.sum(user_embeds * item_embeds, dim=1)\n",
        "        preds = dot + user_bias + item_bias\n",
        "        return preds"
      ],
      "metadata": {
        "id": "4F0vP3bMV6_k"
      },
      "execution_count": 24,
      "outputs": []
    },
    {
      "cell_type": "code",
      "source": [
        "## dataset into torch sensor\n",
        "class RatingDataset(Dataset):\n",
        "    def __init__(self, user_ids, item_ids, ratings):\n",
        "        self.user_ids = torch.tensor(user_ids, dtype=torch.long)\n",
        "        self.item_ids = torch.tensor(item_ids, dtype=torch.long)\n",
        "        self.ratings = torch.tensor(ratings, dtype=torch.float)\n",
        "\n",
        "    def __len__(self):\n",
        "        return len(self.user_ids)\n",
        "\n",
        "    def __getitem__(self, idx):\n",
        "        return self.user_ids[idx], self.item_ids[idx], self.ratings[idx]"
      ],
      "metadata": {
        "id": "Sbvu2zJHV7tI"
      },
      "execution_count": 25,
      "outputs": []
    },
    {
      "cell_type": "code",
      "source": [
        "train_data = RatingDataset(user_ids = train_df.user_ids.tolist(), item_ids = train_df.item_ids.tolist(), ratings = train_df.rating.tolist())\n",
        "test_data = RatingDataset(user_ids = test_df.user_ids.tolist(), item_ids = test_df.item_ids.tolist(), ratings = test_df.rating.tolist())\n",
        "train_loader = DataLoader(train_data, batch_size=128, shuffle=True)\n",
        "test_loader = DataLoader(test_data, batch_size=128)"
      ],
      "metadata": {
        "id": "xEoZSfK-wS3J"
      },
      "execution_count": 26,
      "outputs": []
    },
    {
      "cell_type": "code",
      "source": [
        "## training model\n",
        "def train_model(model, train_loader, lr, num_epochs):\n",
        "    optimizer = optim.Adam(model.parameters(), lr=lr)\n",
        "    loss_fn = nn.MSELoss()\n",
        "    for epoch in range(num_epochs):\n",
        "        total_loss = 0\n",
        "        for user_ids, item_ids, ratings in train_loader:\n",
        "            optimizer.zero_grad()\n",
        "            preds = model(user_ids, item_ids)\n",
        "            loss = loss_fn(preds, ratings)\n",
        "            loss.backward()\n",
        "            optimizer.step()\n",
        "            total_loss += loss.item()\n",
        "        print('Epoch {}/{}: Loss={:.4f}'.format(epoch+1, num_epochs, total_loss))"
      ],
      "metadata": {
        "id": "mLU7xraJV9Tq"
      },
      "execution_count": 27,
      "outputs": []
    },
    {
      "cell_type": "code",
      "source": [
        "## test model\n",
        "def test_model(model, test_loader):\n",
        "    model.eval()\n",
        "    y_preds = []\n",
        "    y_true = []\n",
        "    y_pred = []\n",
        "    with torch.no_grad():\n",
        "        for user_ids, item_ids, ratings in test_loader:\n",
        "            preds = model(user_ids, item_ids)\n",
        "            y_true.extend(list(ratings.numpy()))\n",
        "            y_pred.extend(list(preds.numpy()))\n",
        "            y_preds.append(y_pred)\n",
        "\n",
        "    rmse = mean_squared_error(y_true, y_pred, squared=False)\n",
        "    return rmse, y_preds"
      ],
      "metadata": {
        "id": "_AR7Lr7CWBHZ"
      },
      "execution_count": 28,
      "outputs": []
    },
    {
      "cell_type": "code",
      "source": [
        "n_users = num_users\n",
        "n_items = num_items\n",
        "n_factors = 20"
      ],
      "metadata": {
        "id": "occOTbOAWLKe"
      },
      "execution_count": 29,
      "outputs": []
    },
    {
      "cell_type": "code",
      "source": [
        "## train model with 10 factors\n",
        "model = MF(n_users, n_items, n_factors)\n",
        "train_model(model, train_loader, lr=0.01, num_epochs=20)\n"
      ],
      "metadata": {
        "colab": {
          "base_uri": "https://localhost:8080/"
        },
        "id": "W4unjpFKWNHI",
        "outputId": "54cc4dc4-8c95-468a-ed05-bb42129c3030"
      },
      "execution_count": 30,
      "outputs": [
        {
          "output_type": "stream",
          "name": "stdout",
          "text": [
            "Epoch 1/20: Loss=10749.6567\n",
            "Epoch 2/20: Loss=2236.4451\n",
            "Epoch 3/20: Loss=977.3054\n",
            "Epoch 4/20: Loss=612.3986\n",
            "Epoch 5/20: Loss=465.4890\n",
            "Epoch 6/20: Loss=393.3503\n",
            "Epoch 7/20: Loss=358.3395\n",
            "Epoch 8/20: Loss=339.5329\n",
            "Epoch 9/20: Loss=328.9770\n",
            "Epoch 10/20: Loss=315.6478\n",
            "Epoch 11/20: Loss=293.6611\n",
            "Epoch 12/20: Loss=272.1361\n",
            "Epoch 13/20: Loss=254.8414\n",
            "Epoch 14/20: Loss=241.0347\n",
            "Epoch 15/20: Loss=231.2821\n",
            "Epoch 16/20: Loss=223.2801\n",
            "Epoch 17/20: Loss=215.0276\n",
            "Epoch 18/20: Loss=206.3474\n",
            "Epoch 19/20: Loss=202.1018\n",
            "Epoch 20/20: Loss=195.9075\n"
          ]
        }
      ]
    },
    {
      "cell_type": "code",
      "source": [
        "## test models and get values for validation\n",
        "rmse, y_preds = test_model(model, test_loader)"
      ],
      "metadata": {
        "id": "LPmbhJBqWb8J"
      },
      "execution_count": 31,
      "outputs": []
    },
    {
      "cell_type": "code",
      "source": [
        "## Root Mean Square Error (RMSE) is the standard deviation of the residuals, tells us the difference between predicted values and original ratings.\n",
        "## Smaller values indicate that model predicted well.\n",
        "rmse"
      ],
      "metadata": {
        "colab": {
          "base_uri": "https://localhost:8080/"
        },
        "id": "rWxPhir85Du_",
        "outputId": "70db70fb-d2db-467e-9f43-9f63b746b353"
      },
      "execution_count": 32,
      "outputs": [
        {
          "output_type": "execute_result",
          "data": {
            "text/plain": [
              "1.1893973"
            ]
          },
          "metadata": {},
          "execution_count": 32
        }
      ]
    },
    {
      "cell_type": "code",
      "source": [
        "## display original ratings\n",
        "test_df['rating']"
      ],
      "metadata": {
        "colab": {
          "base_uri": "https://localhost:8080/"
        },
        "id": "eby3JQZ3WlEx",
        "outputId": "eece7092-e3f7-4ddd-977a-7903772df942"
      },
      "execution_count": 33,
      "outputs": [
        {
          "output_type": "execute_result",
          "data": {
            "text/plain": [
              "67037    4.5\n",
              "42175    3.0\n",
              "93850    3.0\n",
              "6187     4.0\n",
              "12229    4.0\n",
              "        ... \n",
              "57416    2.0\n",
              "67290    3.5\n",
              "33423    4.5\n",
              "98552    3.0\n",
              "87803    3.0\n",
              "Name: rating, Length: 20168, dtype: float64"
            ]
          },
          "metadata": {},
          "execution_count": 33
        }
      ]
    },
    {
      "cell_type": "code",
      "source": [
        "## display predicted ratings\n",
        "yp = pd.DataFrame(y_preds)\n",
        "yp.iloc[0]"
      ],
      "metadata": {
        "id": "mqnp6fDSZ2R4",
        "outputId": "d1e2b557-b30b-4199-9de7-20c3cd618a9a",
        "colab": {
          "base_uri": "https://localhost:8080/"
        }
      },
      "execution_count": 34,
      "outputs": [
        {
          "output_type": "execute_result",
          "data": {
            "text/plain": [
              "0        2.331933\n",
              "1        3.275849\n",
              "2        3.408984\n",
              "3        4.415833\n",
              "4        2.757390\n",
              "           ...   \n",
              "20163    5.219423\n",
              "20164    4.592649\n",
              "20165    3.930120\n",
              "20166    3.737211\n",
              "20167    3.096143\n",
              "Name: 0, Length: 20168, dtype: float32"
            ]
          },
          "metadata": {},
          "execution_count": 34
        }
      ]
    }
  ]
}