{
  "cells": [
    {
      "cell_type": "markdown",
      "metadata": {
        "id": "view-in-github",
        "colab_type": "text"
      },
      "source": [
        "<a href=\"https://colab.research.google.com/github/gmrwh92/Recommender-System/blob/main/AutoRec(Autoencoder).ipynb\" target=\"_parent\"><img src=\"https://colab.research.google.com/assets/colab-badge.svg\" alt=\"Open In Colab\"/></a>"
      ]
    },
    {
      "cell_type": "code",
      "execution_count": 1,
      "metadata": {
        "id": "6d-xxaugU87d",
        "colab": {
          "base_uri": "https://localhost:8080/"
        },
        "outputId": "8e439d64-1d19-4421-8acf-a8a86005ed33"
      },
      "outputs": [
        {
          "output_type": "stream",
          "name": "stdout",
          "text": [
            "Drive already mounted at /content/drive; to attempt to forcibly remount, call drive.mount(\"/content/drive\", force_remount=True).\n"
          ]
        }
      ],
      "source": [
        "from google.colab import drive\n",
        "drive.mount('/content/drive')"
      ]
    },
    {
      "cell_type": "code",
      "source": [
        "## importing libraries\n",
        "import torch\n",
        "import numpy as np\n",
        "from torch import nn, div, square, norm\n",
        "from torch.nn import functional as F\n",
        "from torchdata import datapipes as dp\n",
        "import pandas as pd\n",
        "from sklearn.model_selection import train_test_split\n",
        "from sklearn.metrics import mean_squared_error\n",
        "from torch.utils.data import DataLoader, Dataset\n",
        "import matplotlib.pyplot as plt\n",
        "import time\n",
        "from sklearn.preprocessing import LabelEncoder\n",
        "import torch.optim as optim\n"
      ],
      "metadata": {
        "id": "R_B0iufCrqj8"
      },
      "execution_count": 2,
      "outputs": []
    },
    {
      "cell_type": "code",
      "execution_count": 3,
      "metadata": {
        "id": "DCEFHWqpU9E8",
        "colab": {
          "base_uri": "https://localhost:8080/",
          "height": 423
        },
        "outputId": "160ba00f-982b-48ef-be3b-3a602fcb2729"
      },
      "outputs": [
        {
          "output_type": "execute_result",
          "data": {
            "text/plain": [
              "        userId  movieId  rating\n",
              "0            1        1     4.0\n",
              "1            1        3     4.0\n",
              "2            1        6     4.0\n",
              "3            1       47     5.0\n",
              "4            1       50     5.0\n",
              "...        ...      ...     ...\n",
              "100831     610   166534     4.0\n",
              "100832     610   168248     5.0\n",
              "100833     610   168250     5.0\n",
              "100834     610   168252     5.0\n",
              "100835     610   170875     3.0\n",
              "\n",
              "[100836 rows x 3 columns]"
            ],
            "text/html": [
              "\n",
              "  <div id=\"df-22ff923c-cf5b-4520-8057-206b162a6413\" class=\"colab-df-container\">\n",
              "    <div>\n",
              "<style scoped>\n",
              "    .dataframe tbody tr th:only-of-type {\n",
              "        vertical-align: middle;\n",
              "    }\n",
              "\n",
              "    .dataframe tbody tr th {\n",
              "        vertical-align: top;\n",
              "    }\n",
              "\n",
              "    .dataframe thead th {\n",
              "        text-align: right;\n",
              "    }\n",
              "</style>\n",
              "<table border=\"1\" class=\"dataframe\">\n",
              "  <thead>\n",
              "    <tr style=\"text-align: right;\">\n",
              "      <th></th>\n",
              "      <th>userId</th>\n",
              "      <th>movieId</th>\n",
              "      <th>rating</th>\n",
              "    </tr>\n",
              "  </thead>\n",
              "  <tbody>\n",
              "    <tr>\n",
              "      <th>0</th>\n",
              "      <td>1</td>\n",
              "      <td>1</td>\n",
              "      <td>4.0</td>\n",
              "    </tr>\n",
              "    <tr>\n",
              "      <th>1</th>\n",
              "      <td>1</td>\n",
              "      <td>3</td>\n",
              "      <td>4.0</td>\n",
              "    </tr>\n",
              "    <tr>\n",
              "      <th>2</th>\n",
              "      <td>1</td>\n",
              "      <td>6</td>\n",
              "      <td>4.0</td>\n",
              "    </tr>\n",
              "    <tr>\n",
              "      <th>3</th>\n",
              "      <td>1</td>\n",
              "      <td>47</td>\n",
              "      <td>5.0</td>\n",
              "    </tr>\n",
              "    <tr>\n",
              "      <th>4</th>\n",
              "      <td>1</td>\n",
              "      <td>50</td>\n",
              "      <td>5.0</td>\n",
              "    </tr>\n",
              "    <tr>\n",
              "      <th>...</th>\n",
              "      <td>...</td>\n",
              "      <td>...</td>\n",
              "      <td>...</td>\n",
              "    </tr>\n",
              "    <tr>\n",
              "      <th>100831</th>\n",
              "      <td>610</td>\n",
              "      <td>166534</td>\n",
              "      <td>4.0</td>\n",
              "    </tr>\n",
              "    <tr>\n",
              "      <th>100832</th>\n",
              "      <td>610</td>\n",
              "      <td>168248</td>\n",
              "      <td>5.0</td>\n",
              "    </tr>\n",
              "    <tr>\n",
              "      <th>100833</th>\n",
              "      <td>610</td>\n",
              "      <td>168250</td>\n",
              "      <td>5.0</td>\n",
              "    </tr>\n",
              "    <tr>\n",
              "      <th>100834</th>\n",
              "      <td>610</td>\n",
              "      <td>168252</td>\n",
              "      <td>5.0</td>\n",
              "    </tr>\n",
              "    <tr>\n",
              "      <th>100835</th>\n",
              "      <td>610</td>\n",
              "      <td>170875</td>\n",
              "      <td>3.0</td>\n",
              "    </tr>\n",
              "  </tbody>\n",
              "</table>\n",
              "<p>100836 rows × 3 columns</p>\n",
              "</div>\n",
              "    <div class=\"colab-df-buttons\">\n",
              "\n",
              "  <div class=\"colab-df-container\">\n",
              "    <button class=\"colab-df-convert\" onclick=\"convertToInteractive('df-22ff923c-cf5b-4520-8057-206b162a6413')\"\n",
              "            title=\"Convert this dataframe to an interactive table.\"\n",
              "            style=\"display:none;\">\n",
              "\n",
              "  <svg xmlns=\"http://www.w3.org/2000/svg\" height=\"24px\" viewBox=\"0 -960 960 960\">\n",
              "    <path d=\"M120-120v-720h720v720H120Zm60-500h600v-160H180v160Zm220 220h160v-160H400v160Zm0 220h160v-160H400v160ZM180-400h160v-160H180v160Zm440 0h160v-160H620v160ZM180-180h160v-160H180v160Zm440 0h160v-160H620v160Z\"/>\n",
              "  </svg>\n",
              "    </button>\n",
              "\n",
              "  <style>\n",
              "    .colab-df-container {\n",
              "      display:flex;\n",
              "      gap: 12px;\n",
              "    }\n",
              "\n",
              "    .colab-df-convert {\n",
              "      background-color: #E8F0FE;\n",
              "      border: none;\n",
              "      border-radius: 50%;\n",
              "      cursor: pointer;\n",
              "      display: none;\n",
              "      fill: #1967D2;\n",
              "      height: 32px;\n",
              "      padding: 0 0 0 0;\n",
              "      width: 32px;\n",
              "    }\n",
              "\n",
              "    .colab-df-convert:hover {\n",
              "      background-color: #E2EBFA;\n",
              "      box-shadow: 0px 1px 2px rgba(60, 64, 67, 0.3), 0px 1px 3px 1px rgba(60, 64, 67, 0.15);\n",
              "      fill: #174EA6;\n",
              "    }\n",
              "\n",
              "    .colab-df-buttons div {\n",
              "      margin-bottom: 4px;\n",
              "    }\n",
              "\n",
              "    [theme=dark] .colab-df-convert {\n",
              "      background-color: #3B4455;\n",
              "      fill: #D2E3FC;\n",
              "    }\n",
              "\n",
              "    [theme=dark] .colab-df-convert:hover {\n",
              "      background-color: #434B5C;\n",
              "      box-shadow: 0px 1px 3px 1px rgba(0, 0, 0, 0.15);\n",
              "      filter: drop-shadow(0px 1px 2px rgba(0, 0, 0, 0.3));\n",
              "      fill: #FFFFFF;\n",
              "    }\n",
              "  </style>\n",
              "\n",
              "    <script>\n",
              "      const buttonEl =\n",
              "        document.querySelector('#df-22ff923c-cf5b-4520-8057-206b162a6413 button.colab-df-convert');\n",
              "      buttonEl.style.display =\n",
              "        google.colab.kernel.accessAllowed ? 'block' : 'none';\n",
              "\n",
              "      async function convertToInteractive(key) {\n",
              "        const element = document.querySelector('#df-22ff923c-cf5b-4520-8057-206b162a6413');\n",
              "        const dataTable =\n",
              "          await google.colab.kernel.invokeFunction('convertToInteractive',\n",
              "                                                    [key], {});\n",
              "        if (!dataTable) return;\n",
              "\n",
              "        const docLinkHtml = 'Like what you see? Visit the ' +\n",
              "          '<a target=\"_blank\" href=https://colab.research.google.com/notebooks/data_table.ipynb>data table notebook</a>'\n",
              "          + ' to learn more about interactive tables.';\n",
              "        element.innerHTML = '';\n",
              "        dataTable['output_type'] = 'display_data';\n",
              "        await google.colab.output.renderOutput(dataTable, element);\n",
              "        const docLink = document.createElement('div');\n",
              "        docLink.innerHTML = docLinkHtml;\n",
              "        element.appendChild(docLink);\n",
              "      }\n",
              "    </script>\n",
              "  </div>\n",
              "\n",
              "\n",
              "<div id=\"df-f4d8e4d8-ea6a-4edd-832f-397da0400599\">\n",
              "  <button class=\"colab-df-quickchart\" onclick=\"quickchart('df-f4d8e4d8-ea6a-4edd-832f-397da0400599')\"\n",
              "            title=\"Suggest charts.\"\n",
              "            style=\"display:none;\">\n",
              "\n",
              "<svg xmlns=\"http://www.w3.org/2000/svg\" height=\"24px\"viewBox=\"0 0 24 24\"\n",
              "     width=\"24px\">\n",
              "    <g>\n",
              "        <path d=\"M19 3H5c-1.1 0-2 .9-2 2v14c0 1.1.9 2 2 2h14c1.1 0 2-.9 2-2V5c0-1.1-.9-2-2-2zM9 17H7v-7h2v7zm4 0h-2V7h2v10zm4 0h-2v-4h2v4z\"/>\n",
              "    </g>\n",
              "</svg>\n",
              "  </button>\n",
              "\n",
              "<style>\n",
              "  .colab-df-quickchart {\n",
              "      --bg-color: #E8F0FE;\n",
              "      --fill-color: #1967D2;\n",
              "      --hover-bg-color: #E2EBFA;\n",
              "      --hover-fill-color: #174EA6;\n",
              "      --disabled-fill-color: #AAA;\n",
              "      --disabled-bg-color: #DDD;\n",
              "  }\n",
              "\n",
              "  [theme=dark] .colab-df-quickchart {\n",
              "      --bg-color: #3B4455;\n",
              "      --fill-color: #D2E3FC;\n",
              "      --hover-bg-color: #434B5C;\n",
              "      --hover-fill-color: #FFFFFF;\n",
              "      --disabled-bg-color: #3B4455;\n",
              "      --disabled-fill-color: #666;\n",
              "  }\n",
              "\n",
              "  .colab-df-quickchart {\n",
              "    background-color: var(--bg-color);\n",
              "    border: none;\n",
              "    border-radius: 50%;\n",
              "    cursor: pointer;\n",
              "    display: none;\n",
              "    fill: var(--fill-color);\n",
              "    height: 32px;\n",
              "    padding: 0;\n",
              "    width: 32px;\n",
              "  }\n",
              "\n",
              "  .colab-df-quickchart:hover {\n",
              "    background-color: var(--hover-bg-color);\n",
              "    box-shadow: 0 1px 2px rgba(60, 64, 67, 0.3), 0 1px 3px 1px rgba(60, 64, 67, 0.15);\n",
              "    fill: var(--button-hover-fill-color);\n",
              "  }\n",
              "\n",
              "  .colab-df-quickchart-complete:disabled,\n",
              "  .colab-df-quickchart-complete:disabled:hover {\n",
              "    background-color: var(--disabled-bg-color);\n",
              "    fill: var(--disabled-fill-color);\n",
              "    box-shadow: none;\n",
              "  }\n",
              "\n",
              "  .colab-df-spinner {\n",
              "    border: 2px solid var(--fill-color);\n",
              "    border-color: transparent;\n",
              "    border-bottom-color: var(--fill-color);\n",
              "    animation:\n",
              "      spin 1s steps(1) infinite;\n",
              "  }\n",
              "\n",
              "  @keyframes spin {\n",
              "    0% {\n",
              "      border-color: transparent;\n",
              "      border-bottom-color: var(--fill-color);\n",
              "      border-left-color: var(--fill-color);\n",
              "    }\n",
              "    20% {\n",
              "      border-color: transparent;\n",
              "      border-left-color: var(--fill-color);\n",
              "      border-top-color: var(--fill-color);\n",
              "    }\n",
              "    30% {\n",
              "      border-color: transparent;\n",
              "      border-left-color: var(--fill-color);\n",
              "      border-top-color: var(--fill-color);\n",
              "      border-right-color: var(--fill-color);\n",
              "    }\n",
              "    40% {\n",
              "      border-color: transparent;\n",
              "      border-right-color: var(--fill-color);\n",
              "      border-top-color: var(--fill-color);\n",
              "    }\n",
              "    60% {\n",
              "      border-color: transparent;\n",
              "      border-right-color: var(--fill-color);\n",
              "    }\n",
              "    80% {\n",
              "      border-color: transparent;\n",
              "      border-right-color: var(--fill-color);\n",
              "      border-bottom-color: var(--fill-color);\n",
              "    }\n",
              "    90% {\n",
              "      border-color: transparent;\n",
              "      border-bottom-color: var(--fill-color);\n",
              "    }\n",
              "  }\n",
              "</style>\n",
              "\n",
              "  <script>\n",
              "    async function quickchart(key) {\n",
              "      const quickchartButtonEl =\n",
              "        document.querySelector('#' + key + ' button');\n",
              "      quickchartButtonEl.disabled = true;  // To prevent multiple clicks.\n",
              "      quickchartButtonEl.classList.add('colab-df-spinner');\n",
              "      try {\n",
              "        const charts = await google.colab.kernel.invokeFunction(\n",
              "            'suggestCharts', [key], {});\n",
              "      } catch (error) {\n",
              "        console.error('Error during call to suggestCharts:', error);\n",
              "      }\n",
              "      quickchartButtonEl.classList.remove('colab-df-spinner');\n",
              "      quickchartButtonEl.classList.add('colab-df-quickchart-complete');\n",
              "    }\n",
              "    (() => {\n",
              "      let quickchartButtonEl =\n",
              "        document.querySelector('#df-f4d8e4d8-ea6a-4edd-832f-397da0400599 button');\n",
              "      quickchartButtonEl.style.display =\n",
              "        google.colab.kernel.accessAllowed ? 'block' : 'none';\n",
              "    })();\n",
              "  </script>\n",
              "</div>\n",
              "    </div>\n",
              "  </div>\n"
            ]
          },
          "metadata": {},
          "execution_count": 3
        }
      ],
      "source": [
        "## load dataset\n",
        "data = pd.read_csv('/content/drive/MyDrive/ml-latest-small/ratings.csv')\n",
        "df= data[['userId','movieId','rating']]\n",
        "num_users = data.userId.nunique()\n",
        "num_items = data.movieId.nunique()\n",
        "df"
      ]
    },
    {
      "cell_type": "code",
      "source": [
        "##check the number of users and items in movielens dataset\n",
        "num_users, num_items"
      ],
      "metadata": {
        "colab": {
          "base_uri": "https://localhost:8080/"
        },
        "id": "1NXYgqjd-arI",
        "outputId": "8889c1a8-a3a7-4680-eaa2-0f5ecda1e7f0"
      },
      "execution_count": 4,
      "outputs": [
        {
          "output_type": "execute_result",
          "data": {
            "text/plain": [
              "(610, 9724)"
            ]
          },
          "metadata": {},
          "execution_count": 4
        }
      ]
    },
    {
      "cell_type": "code",
      "source": [
        "## encode data into numerical values\n",
        "le = LabelEncoder()\n",
        "df['user_ids'] = le.fit_transform(df['userId'])\n",
        "df['item_ids'] = le.fit_transform(df['movieId'])"
      ],
      "metadata": {
        "id": "SFFhmmwEsJ_o"
      },
      "execution_count": 5,
      "outputs": []
    },
    {
      "cell_type": "code",
      "source": [
        "## Autorec model take user-rating matrix as input, so we need to make user-rating matrix.\n",
        "class MovieLensDataset(Dataset):\n",
        "    def __init__(self, df, train_size=0.8, train=False):\n",
        "        self.df = df\n",
        "        self.train = train\n",
        "        self.train_size = train_size\n",
        "        self.test_size = 1 - self.train_size\n",
        "\n",
        "        self.num_items = len(self.df['item_ids'].unique())\n",
        "        self.num_users = len(self.df['user_ids'].unique())\n",
        "\n",
        "        self.train_df, self.test_df = train_test_split(self.df, test_size=self.test_size, train_size=self.train_size, stratify = self.df['user_ids'].values, random_state=42)\n",
        "\n",
        "        if self.train == True:\n",
        "            self.df = self.train_df\n",
        "        else:\n",
        "            self.df = self.test_df\n",
        "\n",
        "        self.users = torch.tensor(self.df['user_ids'].values)\n",
        "        self.items = torch.tensor(self.df['item_ids'].values)\n",
        "        self.ratings = torch.tensor(self.df['rating'].values)\n",
        "\n",
        "        self.inter_mat = self.make_inter_mat()\n",
        "\n",
        "    def make_inter_mat(self):\n",
        "        inter_mat = np.zeros((self.num_items, self.num_users))\n",
        "        for user, item, rating in zip(self.users, self.items, self.ratings):\n",
        "            inter_mat[item][user] = rating\n",
        "\n",
        "        return inter_mat\n",
        "\n",
        "    def __len__(self):\n",
        "        return len(self.inter_mat)\n",
        "\n",
        "    def __getitem__(self, index):\n",
        "        inter_mat = torch.tensor(self.inter_mat[index]).float()\n",
        "\n",
        "        return inter_mat"
      ],
      "metadata": {
        "id": "vkLrICn1FwFy"
      },
      "execution_count": 6,
      "outputs": []
    },
    {
      "cell_type": "code",
      "source": [
        "## AutoRec model\n",
        "class AutoRec(nn.Module):\n",
        "    def __init__(self, num_hidden, num_users, dropout=0.01):\n",
        "        super(AutoRec, self).__init__()\n",
        "        self.encoder = nn.Sequential(\n",
        "            nn.Linear(num_users, num_hidden),\n",
        "            nn.Sigmoid(),\n",
        "            nn.Linear(num_hidden,num_hidden//2),\n",
        "            )\n",
        "        self.decoder = nn.Sequential(\n",
        "            nn.Linear(num_hidden//2, num_hidden),\n",
        "            nn.Sigmoid(),\n",
        "            nn.Linear(num_hidden,num_users),\n",
        "        )\n",
        "\n",
        "\n",
        "    def forward(self, mat):\n",
        "        hidden = self.encoder(mat)\n",
        "        pred = self.decoder(hidden)\n",
        "\n",
        "        return pred"
      ],
      "metadata": {
        "id": "3Rbnch3q-jYg"
      },
      "execution_count": 7,
      "outputs": []
    },
    {
      "cell_type": "code",
      "source": [
        "## set up parameters\n",
        "batch_size = 256\n",
        "device = 'cuda' if torch.cuda.is_available() else 'cpu'\n",
        "num_hidden = 100"
      ],
      "metadata": {
        "id": "6goZXUu5QyHX"
      },
      "execution_count": 8,
      "outputs": []
    },
    {
      "cell_type": "code",
      "source": [
        "## dataset into torch sensor\n",
        "train_dataset = MovieLensDataset(df=df, train=True)\n",
        "test_dataset = MovieLensDataset(df=df, train=False)\n",
        "train_dataloader = DataLoader(dataset=train_dataset, batch_size=batch_size, shuffle=True)\n",
        "test_dataloader = DataLoader(dataset=test_dataset, batch_size=batch_size, shuffle=False)\n",
        "\n"
      ],
      "metadata": {
        "id": "_6WMzaeV-gVB"
      },
      "execution_count": 9,
      "outputs": []
    },
    {
      "cell_type": "code",
      "source": [
        "##Train model\n",
        "def train_model(model, train_iter, lr, num_epochs):\n",
        "    optimizer = optim.Adam(model.parameters(), lr=lr)\n",
        "    loss_fn = nn.MSELoss()\n",
        "\n",
        "    for epoch in range(num_epochs):\n",
        "        total_loss = 0\n",
        "\n",
        "        for inter_mat in train_iter:\n",
        "          inter_mat = inter_mat.to(device)\n",
        "          preds = model(inter_mat)\n",
        "\n",
        "          loss = loss_fn(preds, inter_mat)\n",
        "          loss.backward()\n",
        "          optimizer.step()\n",
        "          total_loss += loss.item()\n",
        "        print('Epoch {}/{}: Loss={:.4f}'.format(epoch+1, num_epochs, total_loss))\n"
      ],
      "metadata": {
        "id": "sKRgMv05F_oV"
      },
      "execution_count": 10,
      "outputs": []
    },
    {
      "cell_type": "code",
      "source": [
        "##Test model\n",
        "def test_model(model, test_loader):\n",
        "  model.eval()\n",
        "  y_true = []\n",
        "  y_pred =[]\n",
        "  y_preds = []\n",
        "  with torch.no_grad():\n",
        "    for inter_mat in test_loader:\n",
        "      inter_mat = inter_mat.to(device)\n",
        "      preds = model(inter_mat)\n",
        "      y_true.extend(list(inter_mat.numpy()))\n",
        "      y_pred.extend(list(preds.numpy()))\n",
        "      y_preds.append(y_pred)\n",
        "\n",
        "    rmse = mean_squared_error(y_true, y_pred, squared=False)\n",
        "    return rmse, y_pred"
      ],
      "metadata": {
        "id": "ntg3RqARGC52"
      },
      "execution_count": 11,
      "outputs": []
    },
    {
      "cell_type": "code",
      "source": [
        "model = AutoRec(num_hidden, num_users).to(device)"
      ],
      "metadata": {
        "id": "152_Kl-vPfYo"
      },
      "execution_count": 12,
      "outputs": []
    },
    {
      "cell_type": "code",
      "source": [
        "train_model(model, train_dataloader, lr=0.01, num_epochs=100)"
      ],
      "metadata": {
        "colab": {
          "base_uri": "https://localhost:8080/"
        },
        "id": "OhGE5BF8GFP2",
        "outputId": "bc662d1b-e479-45e2-8437-4afb7a3af590"
      },
      "execution_count": 13,
      "outputs": [
        {
          "output_type": "stream",
          "name": "stdout",
          "text": [
            "Epoch 1/100: Loss=7.3100\n",
            "Epoch 2/100: Loss=7.5982\n",
            "Epoch 3/100: Loss=8.7741\n",
            "Epoch 4/100: Loss=10.0045\n",
            "Epoch 5/100: Loss=12.0844\n",
            "Epoch 6/100: Loss=13.2506\n",
            "Epoch 7/100: Loss=15.5615\n",
            "Epoch 8/100: Loss=17.5116\n",
            "Epoch 9/100: Loss=18.2991\n",
            "Epoch 10/100: Loss=21.4970\n",
            "Epoch 11/100: Loss=23.1388\n",
            "Epoch 12/100: Loss=23.3012\n",
            "Epoch 13/100: Loss=26.2641\n",
            "Epoch 14/100: Loss=29.3736\n",
            "Epoch 15/100: Loss=29.3351\n",
            "Epoch 16/100: Loss=29.6414\n",
            "Epoch 17/100: Loss=33.0993\n",
            "Epoch 18/100: Loss=36.5438\n",
            "Epoch 19/100: Loss=36.6485\n",
            "Epoch 20/100: Loss=35.6871\n",
            "Epoch 21/100: Loss=37.7135\n",
            "Epoch 22/100: Loss=42.0315\n",
            "Epoch 23/100: Loss=44.8180\n",
            "Epoch 24/100: Loss=44.1233\n",
            "Epoch 25/100: Loss=42.6843\n",
            "Epoch 26/100: Loss=44.1440\n",
            "Epoch 27/100: Loss=48.4342\n",
            "Epoch 28/100: Loss=52.3749\n",
            "Epoch 29/100: Loss=53.1212\n",
            "Epoch 30/100: Loss=51.1316\n",
            "Epoch 31/100: Loss=49.9068\n",
            "Epoch 32/100: Loss=51.9562\n",
            "Epoch 33/100: Loss=56.5071\n",
            "Epoch 34/100: Loss=60.6590\n",
            "Epoch 35/100: Loss=61.8292\n",
            "Epoch 36/100: Loss=59.9056\n",
            "Epoch 37/100: Loss=57.6002\n",
            "Epoch 38/100: Loss=57.8565\n",
            "Epoch 39/100: Loss=61.3200\n",
            "Epoch 40/100: Loss=66.2413\n",
            "Epoch 41/100: Loss=69.8873\n",
            "Epoch 42/100: Loss=70.3852\n",
            "Epoch 43/100: Loss=68.0522\n",
            "Epoch 44/100: Loss=65.3524\n",
            "Epoch 45/100: Loss=64.9421\n",
            "Epoch 46/100: Loss=67.7484\n",
            "Epoch 47/100: Loss=72.5687\n",
            "Epoch 48/100: Loss=77.1265\n",
            "Epoch 49/100: Loss=79.2785\n",
            "Epoch 50/100: Loss=78.2523\n",
            "Epoch 51/100: Loss=75.1844\n",
            "Epoch 52/100: Loss=72.5619\n",
            "Epoch 53/100: Loss=72.4870\n",
            "Epoch 54/100: Loss=75.4540\n",
            "Epoch 55/100: Loss=80.3097\n",
            "Epoch 56/100: Loss=85.0506\n",
            "Epoch 57/100: Loss=87.7281\n",
            "Epoch 58/100: Loss=87.3711\n",
            "Epoch 59/100: Loss=84.5456\n",
            "Epoch 60/100: Loss=81.2028\n",
            "Epoch 61/100: Loss=79.4744\n",
            "Epoch 62/100: Loss=80.6203\n",
            "Epoch 63/100: Loss=84.4194\n",
            "Epoch 64/100: Loss=89.4926\n",
            "Epoch 65/100: Loss=94.0007\n",
            "Epoch 66/100: Loss=96.3216\n",
            "Epoch 67/100: Loss=95.7343\n",
            "Epoch 68/100: Loss=92.7893\n",
            "Epoch 69/100: Loss=89.1888\n",
            "Epoch 70/100: Loss=86.8580\n",
            "Epoch 71/100: Loss=87.1413\n",
            "Epoch 72/100: Loss=90.1519\n",
            "Epoch 73/100: Loss=94.9418\n",
            "Epoch 74/100: Loss=99.9701\n",
            "Epoch 75/100: Loss=103.6151\n",
            "Epoch 76/100: Loss=104.7474\n",
            "Epoch 77/100: Loss=103.1468\n",
            "Epoch 78/100: Loss=99.6893\n",
            "Epoch 79/100: Loss=96.0094\n",
            "Epoch 80/100: Loss=93.8204\n",
            "Epoch 81/100: Loss=94.1842\n",
            "Epoch 82/100: Loss=97.1443\n",
            "Epoch 83/100: Loss=101.8573\n",
            "Epoch 84/100: Loss=106.9617\n",
            "Epoch 85/100: Loss=110.9941\n",
            "Epoch 86/100: Loss=112.8178\n",
            "Epoch 87/100: Loss=111.9931\n",
            "Epoch 88/100: Loss=108.9692\n",
            "Epoch 89/100: Loss=105.0243\n",
            "Epoch 90/100: Loss=101.7570\n",
            "Epoch 91/100: Loss=100.4740\n",
            "Epoch 92/100: Loss=101.7759\n",
            "Epoch 93/100: Loss=105.3738\n",
            "Epoch 94/100: Loss=110.3262\n",
            "Epoch 95/100: Loss=115.3366\n",
            "Epoch 96/100: Loss=119.1268\n",
            "Epoch 97/100: Loss=120.7361\n",
            "Epoch 98/100: Loss=119.8066\n",
            "Epoch 99/100: Loss=116.7543\n",
            "Epoch 100/100: Loss=112.7181\n"
          ]
        }
      ]
    },
    {
      "cell_type": "code",
      "source": [
        "rmse, y_pred = test_model(model, test_dataloader)"
      ],
      "metadata": {
        "id": "yQP3Stn_YQ1m"
      },
      "execution_count": 14,
      "outputs": []
    },
    {
      "cell_type": "code",
      "source": [
        "rmse"
      ],
      "metadata": {
        "id": "lCMgtwVkYW5D",
        "colab": {
          "base_uri": "https://localhost:8080/"
        },
        "outputId": "95e8fa0e-780a-41b5-b1e3-02b702542804"
      },
      "execution_count": 15,
      "outputs": [
        {
          "output_type": "execute_result",
          "data": {
            "text/plain": [
              "1.5137869"
            ]
          },
          "metadata": {},
          "execution_count": 15
        }
      ]
    },
    {
      "cell_type": "code",
      "source": [
        "## display original rating for first user in test dataset\n",
        "test_dataset[0]"
      ],
      "metadata": {
        "id": "pqp2C63feQWe",
        "colab": {
          "base_uri": "https://localhost:8080/"
        },
        "outputId": "5d97b12b-2dd3-45c6-9de1-0715e3ff8352"
      },
      "execution_count": 16,
      "outputs": [
        {
          "output_type": "execute_result",
          "data": {
            "text/plain": [
              "tensor([0.0000, 0.0000, 0.0000, 0.0000, 4.0000, 0.0000, 0.0000, 0.0000, 0.0000,\n",
              "        0.0000, 0.0000, 0.0000, 0.0000, 0.0000, 0.0000, 0.0000, 4.5000, 0.0000,\n",
              "        0.0000, 0.0000, 0.0000, 0.0000, 0.0000, 0.0000, 0.0000, 0.0000, 0.0000,\n",
              "        0.0000, 0.0000, 0.0000, 0.0000, 0.0000, 0.0000, 0.0000, 0.0000, 0.0000,\n",
              "        0.0000, 0.0000, 0.0000, 0.0000, 0.0000, 0.0000, 0.0000, 0.0000, 0.0000,\n",
              "        0.0000, 0.0000, 0.0000, 0.0000, 0.0000, 0.0000, 0.0000, 0.0000, 0.0000,\n",
              "        0.0000, 0.0000, 5.0000, 0.0000, 0.0000, 0.0000, 0.0000, 0.0000, 5.0000,\n",
              "        0.0000, 0.0000, 0.0000, 0.0000, 2.5000, 0.0000, 0.0000, 0.0000, 0.0000,\n",
              "        0.0000, 0.0000, 0.0000, 0.5000, 0.0000, 4.0000, 0.0000, 0.0000, 0.0000,\n",
              "        2.5000, 0.0000, 0.0000, 0.0000, 0.0000, 0.0000, 0.0000, 3.0000, 3.0000,\n",
              "        0.0000, 0.0000, 0.0000, 0.0000, 0.0000, 0.0000, 0.0000, 0.0000, 0.0000,\n",
              "        0.0000, 0.0000, 0.0000, 4.0000, 0.0000, 0.0000, 0.0000, 0.0000, 0.0000,\n",
              "        0.0000, 0.0000, 0.0000, 0.0000, 0.0000, 0.0000, 0.0000, 0.0000, 0.0000,\n",
              "        0.0000, 0.0000, 0.0000, 0.0000, 0.0000, 0.0000, 0.0000, 0.0000, 0.0000,\n",
              "        0.0000, 0.0000, 0.0000, 0.0000, 0.0000, 0.0000, 0.0000, 0.0000, 0.0000,\n",
              "        0.0000, 0.0000, 0.0000, 0.0000, 0.0000, 0.0000, 0.0000, 0.0000, 0.0000,\n",
              "        0.0000, 0.0000, 0.0000, 0.0000, 0.0000, 0.0000, 0.0000, 0.0000, 0.0000,\n",
              "        0.0000, 0.0000, 4.0000, 0.0000, 0.0000, 0.0000, 0.0000, 0.0000, 0.0000,\n",
              "        0.0000, 0.0000, 0.0000, 0.0000, 0.0000, 0.0000, 0.0000, 0.0000, 0.0000,\n",
              "        0.0000, 0.0000, 0.0000, 0.0000, 0.0000, 0.0000, 0.0000, 0.0000, 0.0000,\n",
              "        0.0000, 0.0000, 0.0000, 0.0000, 0.0000, 0.0000, 0.0000, 0.0000, 0.0000,\n",
              "        0.0000, 0.0000, 0.0000, 0.0000, 0.0000, 0.0000, 0.0000, 0.0000, 0.0000,\n",
              "        0.0000, 0.0000, 0.0000, 4.0000, 0.0000, 0.0000, 0.0000, 0.0000, 0.0000,\n",
              "        0.0000, 0.0000, 0.0000, 0.0000, 0.0000, 0.0000, 0.0000, 0.0000, 0.0000,\n",
              "        0.0000, 0.0000, 0.0000, 0.0000, 0.0000, 0.0000, 0.0000, 0.0000, 0.0000,\n",
              "        0.0000, 0.0000, 0.0000, 0.0000, 0.0000, 0.0000, 0.0000, 0.0000, 0.0000,\n",
              "        0.0000, 0.0000, 0.0000, 0.0000, 0.0000, 5.0000, 0.0000, 0.0000, 0.0000,\n",
              "        0.0000, 0.0000, 0.0000, 0.0000, 0.0000, 0.0000, 0.0000, 0.0000, 4.5000,\n",
              "        0.0000, 0.0000, 0.0000, 0.0000, 0.0000, 0.0000, 0.0000, 0.0000, 0.0000,\n",
              "        0.0000, 0.0000, 0.0000, 0.0000, 0.0000, 0.0000, 0.0000, 0.0000, 0.0000,\n",
              "        0.0000, 0.0000, 0.0000, 0.0000, 5.0000, 0.0000, 0.0000, 0.0000, 0.0000,\n",
              "        0.0000, 0.0000, 4.5000, 0.0000, 0.0000, 0.0000, 0.0000, 0.0000, 0.0000,\n",
              "        0.0000, 0.0000, 0.0000, 4.0000, 0.0000, 0.0000, 0.0000, 0.0000, 0.0000,\n",
              "        0.0000, 0.0000, 0.0000, 0.0000, 0.0000, 0.0000, 0.0000, 0.0000, 0.0000,\n",
              "        0.0000, 0.0000, 0.0000, 0.0000, 0.0000, 0.0000, 0.0000, 0.0000, 0.0000,\n",
              "        0.0000, 0.0000, 0.0000, 0.0000, 0.0000, 0.0000, 0.0000, 0.0000, 0.0000,\n",
              "        0.0000, 0.0000, 0.0000, 0.0000, 0.0000, 0.0000, 0.0000, 0.0000, 0.0000,\n",
              "        0.0000, 0.0000, 0.0000, 0.0000, 0.0000, 4.0000, 0.0000, 5.0000, 0.0000,\n",
              "        0.0000, 0.0000, 0.0000, 0.0000, 0.0000, 0.0000, 0.0000, 0.0000, 0.0000,\n",
              "        0.0000, 5.0000, 0.0000, 0.0000, 0.0000, 0.0000, 0.0000, 4.0000, 0.0000,\n",
              "        0.0000, 0.0000, 0.0000, 5.0000, 0.0000, 0.0000, 0.0000, 0.0000, 0.0000,\n",
              "        0.0000, 0.0000, 0.0000, 0.0000, 0.0000, 0.0000, 0.0000, 0.0000, 0.0000,\n",
              "        0.0000, 0.0000, 0.0000, 0.0000, 0.0000, 0.0000, 0.0000, 0.0000, 0.0000,\n",
              "        0.0000, 0.0000, 0.0000, 0.0000, 0.0000, 0.0000, 0.0000, 0.0000, 0.0000,\n",
              "        0.0000, 0.0000, 0.0000, 0.0000, 0.0000, 0.0000, 0.0000, 0.0000, 0.0000,\n",
              "        0.0000, 0.0000, 0.0000, 0.0000, 0.0000, 0.0000, 0.0000, 0.0000, 0.0000,\n",
              "        0.0000, 0.0000, 0.0000, 0.0000, 0.0000, 0.0000, 0.0000, 4.0000, 0.0000,\n",
              "        0.0000, 0.0000, 0.0000, 0.0000, 0.0000, 0.0000, 0.0000, 0.0000, 0.0000,\n",
              "        0.0000, 4.0000, 0.0000, 4.0000, 0.0000, 0.0000, 0.0000, 0.0000, 0.0000,\n",
              "        0.0000, 0.0000, 0.0000, 0.0000, 0.0000, 0.0000, 5.0000, 0.0000, 0.0000,\n",
              "        0.0000, 0.0000, 0.0000, 0.0000, 0.0000, 5.0000, 0.0000, 0.0000, 0.0000,\n",
              "        0.0000, 0.0000, 0.0000, 0.0000, 0.0000, 0.0000, 0.0000, 0.0000, 0.0000,\n",
              "        0.0000, 0.0000, 0.0000, 0.0000, 0.0000, 4.0000, 0.0000, 0.0000, 0.0000,\n",
              "        0.0000, 0.0000, 3.0000, 0.0000, 0.0000, 0.0000, 0.0000, 0.0000, 0.0000,\n",
              "        0.0000, 0.0000, 0.0000, 0.0000, 0.0000, 0.0000, 0.0000, 0.0000, 0.0000,\n",
              "        0.0000, 0.0000, 0.0000, 0.0000, 0.0000, 0.0000, 0.0000, 0.0000, 0.0000,\n",
              "        0.0000, 0.0000, 0.0000, 0.0000, 0.0000, 0.0000, 0.0000, 0.0000, 0.0000,\n",
              "        0.0000, 0.0000, 0.0000, 4.0000, 0.0000, 0.0000, 0.0000, 0.0000, 0.0000,\n",
              "        0.0000, 0.0000, 4.0000, 0.0000, 0.0000, 0.0000, 0.0000, 0.0000, 0.0000,\n",
              "        0.0000, 0.0000, 0.0000, 0.0000, 0.0000, 0.0000, 0.0000, 0.0000, 0.0000,\n",
              "        0.0000, 0.0000, 0.0000, 0.0000, 0.0000, 0.0000, 0.0000, 0.0000, 0.0000,\n",
              "        0.0000, 0.0000, 0.0000, 0.0000, 0.0000, 0.0000, 0.0000, 0.0000, 0.0000,\n",
              "        0.0000, 0.0000, 0.0000, 0.0000, 0.0000, 0.0000, 0.0000, 0.0000, 0.0000,\n",
              "        0.0000, 0.0000, 0.0000, 0.0000, 0.0000, 0.0000, 0.0000, 0.0000, 0.0000,\n",
              "        0.0000, 0.0000, 0.0000, 0.0000, 0.0000, 0.0000, 0.0000, 0.0000, 0.0000,\n",
              "        0.0000, 0.0000, 0.0000, 0.0000, 0.0000, 0.0000, 0.0000, 0.0000, 0.0000,\n",
              "        0.0000, 0.0000, 0.0000, 0.0000, 0.0000, 0.0000, 0.0000, 0.0000, 0.0000,\n",
              "        0.0000, 0.0000, 0.0000, 0.0000, 2.5000, 3.0000, 0.0000])"
            ]
          },
          "metadata": {},
          "execution_count": 16
        }
      ]
    },
    {
      "cell_type": "code",
      "source": [
        "## display predicted rating for first user in test dataset\n",
        "yp = pd.DataFrame(y_pred)\n",
        "yp.iloc[0]"
      ],
      "metadata": {
        "id": "qpcG6Va6eMrX",
        "colab": {
          "base_uri": "https://localhost:8080/"
        },
        "outputId": "119bf06e-faa4-42ff-f9a9-fc84291f9ed9"
      },
      "execution_count": 17,
      "outputs": [
        {
          "output_type": "execute_result",
          "data": {
            "text/plain": [
              "0     -0.804060\n",
              "1     -2.301746\n",
              "2     -2.328370\n",
              "3      1.928782\n",
              "4      2.080103\n",
              "         ...   \n",
              "605    2.460488\n",
              "606    0.678061\n",
              "607    2.579294\n",
              "608   -2.366279\n",
              "609    1.328778\n",
              "Name: 0, Length: 610, dtype: float32"
            ]
          },
          "metadata": {},
          "execution_count": 17
        }
      ]
    }
  ],
  "metadata": {
    "colab": {
      "provenance": [],
      "authorship_tag": "ABX9TyO4YThhjb8NUxCboVjb0ruC",
      "include_colab_link": true
    },
    "kernelspec": {
      "display_name": "Python 3",
      "name": "python3"
    },
    "language_info": {
      "name": "python"
    }
  },
  "nbformat": 4,
  "nbformat_minor": 0
}